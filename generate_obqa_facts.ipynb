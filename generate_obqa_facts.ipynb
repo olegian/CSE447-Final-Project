{
 "cells": [
  {
   "cell_type": "code",
   "execution_count": 1,
   "metadata": {},
   "outputs": [],
   "source": [
    "from datasets import load_dataset"
   ]
  },
  {
   "cell_type": "code",
   "execution_count": 4,
   "metadata": {},
   "outputs": [
    {
     "name": "stderr",
     "output_type": "stream",
     "text": [
      "Downloading data: 100%|██████████| 635k/635k [00:00<00:00, 1.93MB/s]\n",
      "Downloading data: 100%|██████████| 75.9k/75.9k [00:00<00:00, 239kB/s]\n",
      "Downloading data: 100%|██████████| 72.5k/72.5k [00:00<00:00, 298kB/s]\n",
      "Generating train split: 100%|██████████| 4957/4957 [00:00<00:00, 420227.28 examples/s]\n",
      "Generating validation split: 100%|██████████| 500/500 [00:00<00:00, 172889.69 examples/s]\n",
      "Generating test split: 100%|██████████| 500/500 [00:00<00:00, 184365.01 examples/s]\n"
     ]
    }
   ],
   "source": [
    "obqa_addl = load_dataset('openbookqa', 'additional')"
   ]
  },
  {
   "cell_type": "code",
   "execution_count": 5,
   "metadata": {},
   "outputs": [
    {
     "data": {
      "text/plain": [
       "DatasetDict({\n",
       "    train: Dataset({\n",
       "        features: ['id', 'question_stem', 'choices', 'answerKey', 'fact1', 'humanScore', 'clarity', 'turkIdAnonymized'],\n",
       "        num_rows: 4957\n",
       "    })\n",
       "    validation: Dataset({\n",
       "        features: ['id', 'question_stem', 'choices', 'answerKey', 'fact1', 'humanScore', 'clarity', 'turkIdAnonymized'],\n",
       "        num_rows: 500\n",
       "    })\n",
       "    test: Dataset({\n",
       "        features: ['id', 'question_stem', 'choices', 'answerKey', 'fact1', 'humanScore', 'clarity', 'turkIdAnonymized'],\n",
       "        num_rows: 500\n",
       "    })\n",
       "})"
      ]
     },
     "execution_count": 5,
     "metadata": {},
     "output_type": "execute_result"
    }
   ],
   "source": [
    "obqa_addl"
   ]
  },
  {
   "cell_type": "code",
   "execution_count": 6,
   "metadata": {},
   "outputs": [
    {
     "data": {
      "text/plain": [
       "['the sun is the source of energy for physical cycles on Earth',\n",
       " 'as distance to an object increases , that object will appear smaller',\n",
       " 'digestion is when stomach acid breaks down food',\n",
       " 'a star is made of gases',\n",
       " 'Galileo Galilei made improvements to the telescope to make better observations of celestial bodies']"
      ]
     },
     "execution_count": 6,
     "metadata": {},
     "output_type": "execute_result"
    }
   ],
   "source": [
    "obqa_addl['train']['fact1'][:5]"
   ]
  },
  {
   "cell_type": "code",
   "execution_count": 11,
   "metadata": {},
   "outputs": [],
   "source": [
    "def output_corpus(splits: list[str], output_file: str):\n",
    "  facts = []\n",
    "  for split in splits:\n",
    "    facts.extend(obqa_addl[split]['fact1'])\n",
    "  \n",
    "  with open(output_file, 'w') as f:\n",
    "    f.writelines([fact + '\\n' for fact in facts])"
   ]
  },
  {
   "cell_type": "code",
   "execution_count": 13,
   "metadata": {},
   "outputs": [],
   "source": [
    "output_corpus(['train'], 'data/obqa_facts.txt')\n",
    "output_corpus(['train', 'validation'], 'data/obqa_facts_train-val.txt')\n",
    "output_corpus(['train', 'validation', 'test'], 'data/obqa_facts_full.txt')"
   ]
  }
 ],
 "metadata": {
  "kernelspec": {
   "display_name": "nano",
   "language": "python",
   "name": "python3"
  },
  "language_info": {
   "codemirror_mode": {
    "name": "ipython",
    "version": 3
   },
   "file_extension": ".py",
   "mimetype": "text/x-python",
   "name": "python",
   "nbconvert_exporter": "python",
   "pygments_lexer": "ipython3",
   "version": "3.11.7"
  }
 },
 "nbformat": 4,
 "nbformat_minor": 2
}
